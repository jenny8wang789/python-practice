{
  "nbformat": 4,
  "nbformat_minor": 0,
  "metadata": {
    "colab": {
      "name": "TicTacToe.ipynb",
      "provenance": [],
      "collapsed_sections": []
    },
    "kernelspec": {
      "name": "python3",
      "display_name": "Python 3"
    }
  },
  "cells": [
    {
      "cell_type": "code",
      "metadata": {
        "id": "qq4zqK58qcdk"
      },
      "source": [
        "def display_board(board):\n",
        "  print('   |   |')\n",
        "  print(' ' + board[7] + ' | ' + board[8] + ' | ' + board[9])\n",
        "  print('   |   | ')\n",
        "  print('----------')\n",
        "  print('   |   | ')\n",
        "  print(' ' + board[4] + ' | ' + board[5] + ' | ' + board[6])\n",
        "  print('   |   | ')\n",
        "  print('----------')\n",
        "  print('   |   | ')\n",
        "  print(' ' + board[1] + ' | ' + board[2] + ' | ' + board[3])\n",
        "  print('   |   | ')"
      ],
      "execution_count": null,
      "outputs": []
    },
    {
      "cell_type": "code",
      "metadata": {
        "id": "qzdWVujFqoyw"
      },
      "source": [
        "test_board = ['#', 'X', 'O', 'X', 'O', 'X','O', 'X', 'O', 'X']\n",
        "display_board(test_board)"
      ],
      "execution_count": null,
      "outputs": []
    },
    {
      "cell_type": "code",
      "metadata": {
        "id": "1adbk_PB-599"
      },
      "source": [
        "def player_input():\n",
        "  #player1 = input(\"Please chose a marker 'x' or 'o': \")\n",
        "  marker = ' '\n",
        "  \n",
        "  while not (marker == 'X' or marker =='O' ):\n",
        "      marker = input(\"Player 1: Do you want to be x or o? \").lower()\n",
        "    \n",
        "      if marker == 'x':\n",
        "        return ('x', 'o')\n",
        "        \n",
        "\n",
        "      elif marker == 'o':\n",
        "        return ('o','x') \n",
        "        \n",
        "\n",
        "      else:\n",
        "        print(input('Player 1: Do you want to be x or o? '))\n",
        "\n",
        "  #marker = player1"
      ],
      "execution_count": null,
      "outputs": []
    },
    {
      "cell_type": "code",
      "metadata": {
        "id": "-fpxH34h_HPP"
      },
      "source": [
        "\n",
        "#position = input(\"Please enter a number(1-9): \")\n",
        "\n",
        "#while position IS NOT integer OR IS NOT between [1,9]\n",
        "#while type(position) != int or (position < 1 or position > 9):\n",
        "  #position = input('Please choose a number (1-9): ')\n"
      ],
      "execution_count": null,
      "outputs": []
    },
    {
      "cell_type": "code",
      "metadata": {
        "id": "wujcx9de_EpW"
      },
      "source": [
        "player_input()"
      ],
      "execution_count": null,
      "outputs": []
    },
    {
      "cell_type": "code",
      "metadata": {
        "id": "1CO_H5aIHufs"
      },
      "source": [
        "def place_marker(board, marker, position): \n",
        "  board[position] = marker\n"
      ],
      "execution_count": null,
      "outputs": []
    },
    {
      "cell_type": "code",
      "metadata": {
        "id": "Irbv9ejkEa1U"
      },
      "source": [
        "place_marker(test_board, '$', 9)\n",
        "display_board(test_board)"
      ],
      "execution_count": null,
      "outputs": []
    },
    {
      "cell_type": "code",
      "metadata": {
        "id": "OGMdDVtGEoHu"
      },
      "source": [
        "def win_check(board, mark):\n",
        "\n",
        "  return((board[7] == mark and board[8] == mark and board[9] == mark) or #top horizontal\n",
        "          (board[4] == mark and board [5] == mark and board [6] == mark) or #middle horizontal\n",
        "          (board[1] == mark and board [2] == mark and board[3] == mark) or #bottom horizontal\n",
        "          (board[7] == mark and board[4] == mark and board [1] == mark) or #left vertical\n",
        "          (board[8] == mark and board[5] == mark and board[2] == mark) or #middle vertical\n",
        "          (board[9] == mark and board[6] == mark and board[3] == mark) or #right vetical\n",
        "          (board[7] == mark and board[5] == mark and board[3] == mark) or #diagonal upper left\n",
        "          (board[9] == mark and board[5] == mark and board[1] == mark)) #diagonal upper right\n",
        "        "
      ],
      "execution_count": null,
      "outputs": []
    },
    {
      "cell_type": "code",
      "metadata": {
        "id": "YmjYDhn1Hv7j"
      },
      "source": [
        "win_check(test_board, 'X')"
      ],
      "execution_count": null,
      "outputs": []
    },
    {
      "cell_type": "code",
      "metadata": {
        "id": "kkgQnQjXISl0"
      },
      "source": [
        "import random\n",
        "\n",
        "def choose_first():\n",
        "  turn = random.randint(0, 1)\n",
        "\n",
        "  if turn == 0:\n",
        "    #print('Player 1, your turn')\n",
        "    return player1\n",
        "  else:\n",
        "    #print('Player 2, your turn')\n",
        "    return player2\n",
        "  "
      ],
      "execution_count": null,
      "outputs": []
    },
    {
      "cell_type": "code",
      "metadata": {
        "id": "yRpA1Gyql5Rj"
      },
      "source": [
        "def space_check(board, position):\n",
        "  #if board posn is marked, return false\n",
        "  #if board posn is unmarked, return true\n",
        "  return board[position] == ' '\n"
      ],
      "execution_count": null,
      "outputs": []
    },
    {
      "cell_type": "code",
      "metadata": {
        "id": "rDiUe135pjW6"
      },
      "source": [
        "def full_board_check(board):\n",
        "  #go through each position and check if full\n",
        "  for i in range(1, 10):\n",
        "  #if all full \n",
        "    if space_check(board, i): #space_check ret True if space open\n",
        "      return False\n",
        "  #if checked whole board not full\n",
        "  return True\n"
      ],
      "execution_count": null,
      "outputs": []
    },
    {
      "cell_type": "code",
      "metadata": {
        "id": "jCopxbkLS749"
      },
      "source": [
        "def player_choice(board):\n",
        "  position = 0\n",
        "  while position not in range(1, 10) or space_check(board, position) == False:\n",
        "    position = int(input(\"Please choose your next position 1-9: \")) \n",
        "  \n",
        "  return position"
      ],
      "execution_count": null,
      "outputs": []
    },
    {
      "cell_type": "code",
      "metadata": {
        "id": "jo4BJs8zeBPj"
      },
      "source": [
        "def replay():\n",
        "  \n",
        "\n",
        "  return input(\"Would you like to play again? Yes or No: \").lower() == \"yes\"\n",
        "  "
      ],
      "execution_count": null,
      "outputs": []
    },
    {
      "cell_type": "code",
      "metadata": {
        "id": "z2t7fDZyeDvb"
      },
      "source": [
        "replay()"
      ],
      "execution_count": null,
      "outputs": []
    },
    {
      "cell_type": "code",
      "metadata": {
        "id": "Fax3Ix-_niAi"
      },
      "source": [
        "print(\"Welcome to Tic Tac Toe!\")\n",
        "\n",
        "while True:\n",
        "  \n",
        "  game_board = [' '] * 10\n",
        "  player1, player2 = player_input()\n",
        "\n",
        "  if input('Would you like to start the game? Yes or No: ').lower() == 'yes':\n",
        "    game_on = True\n",
        "    display_board(game_board)\n",
        "  else: \n",
        "    print('Bye, your loss')\n",
        "    break\n",
        "\n",
        "  i = 0\n",
        "  while game_on:\n",
        "    if i == 0: \n",
        "      turn = choose_first()\n",
        "      i = 1\n",
        "    \n",
        "\n",
        "    if turn == player1:\n",
        "      print('Player 1s turn ' + player1)\n",
        "    \n",
        "      #turn == 0 is player 1; turn ==1 is player 2\n",
        "      #Player 1 turn\n",
        "      \n",
        "      my_pos = player_choice(game_board)\n",
        "      if space_check(game_board, my_pos) == True:\n",
        "        game_board[my_pos] = player1\n",
        "        \n",
        "\n",
        "      if win_check(game_board, player1) == True:\n",
        "        print(\"player 1 wins!\")\n",
        "        display_board(game_board)\n",
        "        break\n",
        "          \n",
        "      if full_board_check(game_board) == True:\n",
        "        print(\"The board is full, no players have won.\")\n",
        "        break\n",
        "\n",
        "      display_board(game_board)\n",
        "      turn = player2\n",
        "      #else, player 2 turn\n",
        "      \n",
        "    #Player 2 turn\n",
        "    if turn == player2:\n",
        "      print('Player 2s turn ' + player2)\n",
        "      #print('Player 2, your turn')\n",
        "      \n",
        "      my_pos = player_choice(game_board)\n",
        "      if space_check(game_board, my_pos) == True:\n",
        "        game_board[my_pos] = player2\n",
        "\n",
        "      if win_check(game_board, player2) == True:\n",
        "        print('Player 2 wins!')\n",
        "        display_board(game_board)\n",
        "        break\n",
        "       \n",
        "      if full_board_check(game_board) == True:\n",
        "        print(\"The game is over, no players have won.\")\n",
        "        break\n",
        "  \n",
        "      #else:         \n",
        "      display_board(game_board)\n",
        "      print('PLEASE WORK')\n",
        "      turn = player1\n",
        "\n",
        "  \n",
        "  if not replay():\n",
        "    print('Thanks for playing!')\n",
        "    break\n",
        "            \n",
        "\n"
      ],
      "execution_count": null,
      "outputs": []
    }
  ]
}